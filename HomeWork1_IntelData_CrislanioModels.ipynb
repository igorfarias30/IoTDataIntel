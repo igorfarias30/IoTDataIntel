{
 "cells": [
  {
   "cell_type": "code",
   "execution_count": 1,
   "metadata": {
    "collapsed": true
   },
   "outputs": [],
   "source": [
    "# http://db.csail.mit.edu/labdata/labdata.html"
   ]
  },
  {
   "cell_type": "code",
   "execution_count": 10,
   "metadata": {},
   "outputs": [],
   "source": [
    "%matplotlib inline\n",
    "\n",
    "from sklearn.model_selection import train_test_split, cross_val_score\n",
    "from sklearn.linear_model import LinearRegression # importa o modelo\n",
    "from sklearn.metrics import mean_squared_error\n",
    "# import statsmodels.formula.api as sm\n",
    "import matplotlib.pyplot as plt\n",
    "from mpl_toolkits.mplot3d import Axes3D\n",
    "import sklearn.manifold as skm\n",
    "from sklearn import metrics\n",
    "import scipy.stats as stats\n",
    "import seaborn as sns\n",
    "import random as rdn\n",
    "import pandas as pd\n",
    "import numpy as np\n",
    "import scipy as sp\n",
    "import datetime\n",
    "import time"
   ]
  },
  {
   "cell_type": "markdown",
   "metadata": {},
   "source": [
    "## Reading Dataset"
   ]
  },
  {
   "cell_type": "code",
   "execution_count": 3,
   "metadata": {},
   "outputs": [],
   "source": [
    "# setting names to columns\n",
    "data_column_names = [\"Date\", \"Time\", \"Epoch\", \"Moteid\", \"Temperature\", \"Humidity\", \"Light\", \"Voltage\"]\n",
    "data = pd.read_csv(\"data.txt\", delimiter = \" \", names = data_column_names)"
   ]
  },
  {
   "cell_type": "code",
   "execution_count": 3,
   "metadata": {},
   "outputs": [
    {
     "data": {
      "text/html": [
       "<div>\n",
       "<style scoped>\n",
       "    .dataframe tbody tr th:only-of-type {\n",
       "        vertical-align: middle;\n",
       "    }\n",
       "\n",
       "    .dataframe tbody tr th {\n",
       "        vertical-align: top;\n",
       "    }\n",
       "\n",
       "    .dataframe thead th {\n",
       "        text-align: right;\n",
       "    }\n",
       "</style>\n",
       "<table border=\"1\" class=\"dataframe\">\n",
       "  <thead>\n",
       "    <tr style=\"text-align: right;\">\n",
       "      <th></th>\n",
       "      <th>Date</th>\n",
       "      <th>Time</th>\n",
       "      <th>Epoch</th>\n",
       "      <th>Moteid</th>\n",
       "      <th>Temperature</th>\n",
       "      <th>Humidity</th>\n",
       "      <th>Light</th>\n",
       "      <th>Voltage</th>\n",
       "    </tr>\n",
       "  </thead>\n",
       "  <tbody>\n",
       "    <tr>\n",
       "      <th>0</th>\n",
       "      <td>2004-03-31</td>\n",
       "      <td>03:38:15.757551</td>\n",
       "      <td>2</td>\n",
       "      <td>1.0</td>\n",
       "      <td>122.1530</td>\n",
       "      <td>-3.91901</td>\n",
       "      <td>11.04</td>\n",
       "      <td>2.03397</td>\n",
       "    </tr>\n",
       "    <tr>\n",
       "      <th>1</th>\n",
       "      <td>2004-02-28</td>\n",
       "      <td>00:59:16.02785</td>\n",
       "      <td>3</td>\n",
       "      <td>1.0</td>\n",
       "      <td>19.9884</td>\n",
       "      <td>37.09330</td>\n",
       "      <td>45.08</td>\n",
       "      <td>2.69964</td>\n",
       "    </tr>\n",
       "    <tr>\n",
       "      <th>2</th>\n",
       "      <td>2004-02-28</td>\n",
       "      <td>01:03:16.33393</td>\n",
       "      <td>11</td>\n",
       "      <td>1.0</td>\n",
       "      <td>19.3024</td>\n",
       "      <td>38.46290</td>\n",
       "      <td>45.08</td>\n",
       "      <td>2.68742</td>\n",
       "    </tr>\n",
       "  </tbody>\n",
       "</table>\n",
       "</div>"
      ],
      "text/plain": [
       "         Date             Time  Epoch  Moteid  Temperature  Humidity  Light  \\\n",
       "0  2004-03-31  03:38:15.757551      2     1.0     122.1530  -3.91901  11.04   \n",
       "1  2004-02-28   00:59:16.02785      3     1.0      19.9884  37.09330  45.08   \n",
       "2  2004-02-28   01:03:16.33393     11     1.0      19.3024  38.46290  45.08   \n",
       "\n",
       "   Voltage  \n",
       "0  2.03397  \n",
       "1  2.69964  \n",
       "2  2.68742  "
      ]
     },
     "execution_count": 3,
     "metadata": {},
     "output_type": "execute_result"
    }
   ],
   "source": [
    "data.head(3)"
   ]
  },
  {
   "cell_type": "markdown",
   "metadata": {},
   "source": [
    "### Null values"
   ]
  },
  {
   "cell_type": "code",
   "execution_count": 4,
   "metadata": {},
   "outputs": [],
   "source": [
    "# removing null and inf id's\n",
    "data.dropna(subset = ['Moteid'], inplace = True)\n",
    "data['Moteid'] = data['Moteid'].astype(np.int) # moteid id the id sensor in the lab\n",
    "\n",
    "# change features order\n",
    "data = data[[\"Moteid\", \"Epoch\", \"Humidity\", \"Light\", \"Voltage\", \"Date\", \"Time\", \"Temperature\"]]"
   ]
  },
  {
   "cell_type": "code",
   "execution_count": 5,
   "metadata": {},
   "outputs": [
    {
     "data": {
      "text/html": [
       "<div>\n",
       "<style scoped>\n",
       "    .dataframe tbody tr th:only-of-type {\n",
       "        vertical-align: middle;\n",
       "    }\n",
       "\n",
       "    .dataframe tbody tr th {\n",
       "        vertical-align: top;\n",
       "    }\n",
       "\n",
       "    .dataframe thead th {\n",
       "        text-align: right;\n",
       "    }\n",
       "</style>\n",
       "<table border=\"1\" class=\"dataframe\">\n",
       "  <thead>\n",
       "    <tr style=\"text-align: right;\">\n",
       "      <th></th>\n",
       "      <th>Moteid</th>\n",
       "      <th>Epoch</th>\n",
       "      <th>Humidity</th>\n",
       "      <th>Light</th>\n",
       "      <th>Voltage</th>\n",
       "      <th>Date</th>\n",
       "      <th>Time</th>\n",
       "      <th>Temperature</th>\n",
       "    </tr>\n",
       "  </thead>\n",
       "  <tbody>\n",
       "    <tr>\n",
       "      <th>0</th>\n",
       "      <td>1</td>\n",
       "      <td>2</td>\n",
       "      <td>-3.91901</td>\n",
       "      <td>11.04</td>\n",
       "      <td>2.03397</td>\n",
       "      <td>2004-03-31</td>\n",
       "      <td>03:38:15.757551</td>\n",
       "      <td>122.1530</td>\n",
       "    </tr>\n",
       "    <tr>\n",
       "      <th>1</th>\n",
       "      <td>1</td>\n",
       "      <td>3</td>\n",
       "      <td>37.09330</td>\n",
       "      <td>45.08</td>\n",
       "      <td>2.69964</td>\n",
       "      <td>2004-02-28</td>\n",
       "      <td>00:59:16.02785</td>\n",
       "      <td>19.9884</td>\n",
       "    </tr>\n",
       "    <tr>\n",
       "      <th>2</th>\n",
       "      <td>1</td>\n",
       "      <td>11</td>\n",
       "      <td>38.46290</td>\n",
       "      <td>45.08</td>\n",
       "      <td>2.68742</td>\n",
       "      <td>2004-02-28</td>\n",
       "      <td>01:03:16.33393</td>\n",
       "      <td>19.3024</td>\n",
       "    </tr>\n",
       "  </tbody>\n",
       "</table>\n",
       "</div>"
      ],
      "text/plain": [
       "   Moteid  Epoch  Humidity  Light  Voltage        Date             Time  \\\n",
       "0       1      2  -3.91901  11.04  2.03397  2004-03-31  03:38:15.757551   \n",
       "1       1      3  37.09330  45.08  2.69964  2004-02-28   00:59:16.02785   \n",
       "2       1     11  38.46290  45.08  2.68742  2004-02-28   01:03:16.33393   \n",
       "\n",
       "   Temperature  \n",
       "0     122.1530  \n",
       "1      19.9884  \n",
       "2      19.3024  "
      ]
     },
     "execution_count": 5,
     "metadata": {},
     "output_type": "execute_result"
    }
   ],
   "source": [
    "data.head(3)"
   ]
  },
  {
   "cell_type": "code",
   "execution_count": 17,
   "metadata": {},
   "outputs": [
    {
     "data": {
      "text/plain": [
       "Moteid         0.000000\n",
       "Epoch          0.000000\n",
       "Humidity       0.016255\n",
       "Light          4.035698\n",
       "Voltage        0.000000\n",
       "Date           0.000000\n",
       "Time           0.000000\n",
       "Temperature    0.016212\n",
       "dtype: float64"
      ]
     },
     "execution_count": 17,
     "metadata": {},
     "output_type": "execute_result"
    }
   ],
   "source": [
    "data.isnull().sum()/data.shape[0] * 100"
   ]
  },
  {
   "cell_type": "markdown",
   "metadata": {},
   "source": [
    "## Change dataset"
   ]
  },
  {
   "cell_type": "code",
   "execution_count": 5,
   "metadata": {},
   "outputs": [],
   "source": [
    "# dataset to model\n",
    "new_data = data[data['Epoch'] > 1].copy()\n",
    "new_data = new_data.dropna() # removing missing data\n",
    "new_data.isnull().sum() # check\n",
    "\n",
    "# excluindo épocas nulas\n",
    "new_data = new_data[(new_data[\"Moteid\"] < 54) & (new_data[\"Moteid\"] > 1)]  "
   ]
  },
  {
   "cell_type": "code",
   "execution_count": 5,
   "metadata": {},
   "outputs": [
    {
     "data": {
      "text/plain": [
       "(65534,)"
      ]
     },
     "execution_count": 5,
     "metadata": {},
     "output_type": "execute_result"
    }
   ],
   "source": [
    "new_data['Epoch'].unique().shape"
   ]
  },
  {
   "cell_type": "markdown",
   "metadata": {},
   "source": [
    "## Creating a model"
   ]
  },
  {
   "cell_type": "markdown",
   "metadata": {},
   "source": [
    "## 100 firts Epochs"
   ]
  },
  {
   "cell_type": "code",
   "execution_count": 6,
   "metadata": {},
   "outputs": [],
   "source": [
    "# array of epochs\n",
    "epochs = new_data['Epoch'].unique()\n",
    "epochs = epochs[:100]"
   ]
  },
  {
   "cell_type": "code",
   "execution_count": 10,
   "metadata": {},
   "outputs": [
    {
     "data": {
      "text/plain": [
       "array([  2,  21,  25,  58,  61,  72,  74,  78,  79,  81,  83,  84,  86,\n",
       "        88,  89,  94,  95,  96,  97,  98, 104, 105, 108, 109, 112, 113,\n",
       "       117, 129, 130, 131, 133, 137, 138, 139, 140, 141, 142, 143, 155,\n",
       "       161, 164, 165, 171, 174, 180, 182, 183, 184, 185, 189, 190, 191,\n",
       "       193, 195, 197, 206, 207, 209, 218, 219, 220, 221, 222, 223, 227,\n",
       "       233, 234, 236, 240, 241, 242, 244, 245, 248, 250, 251, 260, 262,\n",
       "       263, 264, 267, 268, 272, 277, 279, 281, 282, 284, 291, 293, 294,\n",
       "       296, 299, 300, 302, 304, 306, 312, 314, 315])"
      ]
     },
     "execution_count": 10,
     "metadata": {},
     "output_type": "execute_result"
    }
   ],
   "source": [
    "epochs"
   ]
  },
  {
   "cell_type": "code",
   "execution_count": 11,
   "metadata": {},
   "outputs": [
    {
     "data": {
      "text/plain": [
       "(2138311, 8)"
      ]
     },
     "execution_count": 11,
     "metadata": {},
     "output_type": "execute_result"
    }
   ],
   "source": [
    "new_data.shape  # Número de linhas e colunas"
   ]
  },
  {
   "cell_type": "code",
   "execution_count": 7,
   "metadata": {},
   "outputs": [],
   "source": [
    "new_data = new_data[new_data['Epoch'].isin(epochs)]"
   ]
  },
  {
   "cell_type": "code",
   "execution_count": 8,
   "metadata": {},
   "outputs": [],
   "source": [
    "regrGeral = LinearRegression()\n",
    "fig = plt.figure()\n",
    "ax = fig.gca(projection='3d')\n",
    "\n",
    "for feature in ['Light', 'Voltage', 'Humidity']:\n",
    "    for ep in new_data:        \n",
    "        X_train, y_train = new_data[[feature]], new_data['Temperature']\n",
    "        regrGeral.fit(X_train, y_train) # fitting model\n",
    "\n",
    "        ax.plot_surface(X_train, y_train, Z, rstride=1, cstride=1, alpha=0.5)\n",
    "\n",
    "        ax.scatter(x, y, z, c='r', s=10,  depthshade=True)\n",
    "        plt.xlabel('X')\n",
    "        plt.ylabel('Y')\n",
    "        ax.set_zlabel('Z')\n",
    "        ax.axis('equal')\n",
    "        ax.axis('tight')\n",
    "        plt.show()\n",
    "\n",
    "        \n",
    "#epochs_error_mean\n",
    "# pd.DataFrame(np.array(features_G).T, columns = ['Temp~Light', 'Temp~Voltage', 'Temp~Humidity']).set_index(epochs).reset_index().rename(columns = {'index': 'Epoch'})\n",
    "#np.array(features_).shape"
   ]
  },
  {
   "cell_type": "code",
   "execution_count": 17,
   "metadata": {},
   "outputs": [],
   "source": [
    "# !pip install statsmodels"
   ]
  },
  {
   "cell_type": "code",
   "execution_count": 18,
   "metadata": {},
   "outputs": [
    {
     "ename": "ModuleNotFoundError",
     "evalue": "No module named 'statsmodels'",
     "output_type": "error",
     "traceback": [
      "\u001b[0;31m---------------------------------------------------------------------------\u001b[0m",
      "\u001b[0;31mModuleNotFoundError\u001b[0m                       Traceback (most recent call last)",
      "\u001b[0;32m<ipython-input-18-435ebbc99b07>\u001b[0m in \u001b[0;36m<module>\u001b[0;34m()\u001b[0m\n\u001b[0;32m----> 1\u001b[0;31m \u001b[0;32mimport\u001b[0m \u001b[0mstatsmodels\u001b[0m\u001b[0;34m.\u001b[0m\u001b[0mformula\u001b[0m\u001b[0;34m.\u001b[0m\u001b[0mapi\u001b[0m \u001b[0;32mas\u001b[0m \u001b[0msmf\u001b[0m\u001b[0;34m\u001b[0m\u001b[0m\n\u001b[0m\u001b[1;32m      2\u001b[0m \u001b[0mmodel\u001b[0m \u001b[0;34m=\u001b[0m \u001b[0msmf\u001b[0m\u001b[0;34m.\u001b[0m\u001b[0mols\u001b[0m\u001b[0;34m(\u001b[0m\u001b[0mformula\u001b[0m\u001b[0;34m=\u001b[0m\u001b[0;34m'Temperature ~ Light + Voltage + Humidity'\u001b[0m\u001b[0;34m,\u001b[0m \u001b[0mdata\u001b[0m\u001b[0;34m=\u001b[0m\u001b[0mnew_data\u001b[0m\u001b[0;34m)\u001b[0m\u001b[0;34m\u001b[0m\u001b[0m\n\u001b[1;32m      3\u001b[0m \u001b[0mregrGeralF\u001b[0m \u001b[0;34m=\u001b[0m \u001b[0mmodel\u001b[0m\u001b[0;34m.\u001b[0m\u001b[0mfit\u001b[0m\u001b[0;34m(\u001b[0m\u001b[0;34m)\u001b[0m\u001b[0;34m\u001b[0m\u001b[0m\n\u001b[1;32m      4\u001b[0m \u001b[0mregrGeralF\u001b[0m\u001b[0;34m.\u001b[0m\u001b[0mparams\u001b[0m\u001b[0;34m\u001b[0m\u001b[0m\n",
      "\u001b[0;31mModuleNotFoundError\u001b[0m: No module named 'statsmodels'"
     ]
    }
   ],
   "source": [
    "import statsmodels.formula.api as smf\n",
    "model = smf.ols(formula='Temperature ~ Light + Voltage + Humidity', data=new_data)\n",
    "regrGeralF = model.fit()\n",
    "regrGeralF.params"
   ]
  },
  {
   "cell_type": "code",
   "execution_count": 14,
   "metadata": {},
   "outputs": [
    {
     "ename": "TypeError",
     "evalue": "predict() got an unexpected keyword argument 'exog'",
     "output_type": "error",
     "traceback": [
      "\u001b[0;31m---------------------------------------------------------------------------\u001b[0m",
      "\u001b[0;31mTypeError\u001b[0m                                 Traceback (most recent call last)",
      "\u001b[0;32m<ipython-input-14-3947486b7977>\u001b[0m in \u001b[0;36m<module>\u001b[0;34m()\u001b[0m\n\u001b[1;32m      1\u001b[0m \u001b[0mx_surf\u001b[0m\u001b[0;34m,\u001b[0m \u001b[0my_surf\u001b[0m \u001b[0;34m=\u001b[0m \u001b[0mnp\u001b[0m\u001b[0;34m.\u001b[0m\u001b[0mmeshgrid\u001b[0m\u001b[0;34m(\u001b[0m\u001b[0mnp\u001b[0m\u001b[0;34m.\u001b[0m\u001b[0mlinspace\u001b[0m\u001b[0;34m(\u001b[0m\u001b[0mnew_data\u001b[0m\u001b[0;34m.\u001b[0m\u001b[0mLight\u001b[0m\u001b[0;34m.\u001b[0m\u001b[0mmin\u001b[0m\u001b[0;34m(\u001b[0m\u001b[0;34m)\u001b[0m\u001b[0;34m,\u001b[0m \u001b[0mnew_data\u001b[0m\u001b[0;34m.\u001b[0m\u001b[0mLight\u001b[0m\u001b[0;34m.\u001b[0m\u001b[0mmax\u001b[0m\u001b[0;34m(\u001b[0m\u001b[0;34m)\u001b[0m\u001b[0;34m,\u001b[0m \u001b[0;36m100\u001b[0m\u001b[0;34m)\u001b[0m\u001b[0;34m,\u001b[0m\u001b[0mnp\u001b[0m\u001b[0;34m.\u001b[0m\u001b[0mlinspace\u001b[0m\u001b[0;34m(\u001b[0m\u001b[0mnew_data\u001b[0m\u001b[0;34m.\u001b[0m\u001b[0mVoltage\u001b[0m\u001b[0;34m.\u001b[0m\u001b[0mmin\u001b[0m\u001b[0;34m(\u001b[0m\u001b[0;34m)\u001b[0m\u001b[0;34m,\u001b[0m \u001b[0mnew_data\u001b[0m\u001b[0;34m.\u001b[0m\u001b[0mVoltage\u001b[0m\u001b[0;34m.\u001b[0m\u001b[0mmax\u001b[0m\u001b[0;34m(\u001b[0m\u001b[0;34m)\u001b[0m\u001b[0;34m,\u001b[0m \u001b[0;36m100\u001b[0m\u001b[0;34m)\u001b[0m\u001b[0;34m)\u001b[0m\u001b[0;34m\u001b[0m\u001b[0m\n\u001b[1;32m      2\u001b[0m \u001b[0monlyX\u001b[0m \u001b[0;34m=\u001b[0m \u001b[0mpd\u001b[0m\u001b[0;34m.\u001b[0m\u001b[0mDataFrame\u001b[0m\u001b[0;34m(\u001b[0m\u001b[0;34m{\u001b[0m\u001b[0;34m'Light'\u001b[0m\u001b[0;34m:\u001b[0m \u001b[0mx_surf\u001b[0m\u001b[0;34m.\u001b[0m\u001b[0mravel\u001b[0m\u001b[0;34m(\u001b[0m\u001b[0;34m)\u001b[0m\u001b[0;34m,\u001b[0m \u001b[0;34m'Voltage'\u001b[0m\u001b[0;34m:\u001b[0m \u001b[0my_surf\u001b[0m\u001b[0;34m.\u001b[0m\u001b[0mravel\u001b[0m\u001b[0;34m(\u001b[0m\u001b[0;34m)\u001b[0m\u001b[0;34m}\u001b[0m\u001b[0;34m)\u001b[0m\u001b[0;34m\u001b[0m\u001b[0m\n\u001b[0;32m----> 3\u001b[0;31m \u001b[0mfittedY\u001b[0m\u001b[0;34m=\u001b[0m\u001b[0mregrGeral\u001b[0m\u001b[0;34m.\u001b[0m\u001b[0mpredict\u001b[0m\u001b[0;34m(\u001b[0m\u001b[0mexog\u001b[0m\u001b[0;34m=\u001b[0m\u001b[0monlyX\u001b[0m\u001b[0;34m)\u001b[0m\u001b[0;34m\u001b[0m\u001b[0m\n\u001b[0m\u001b[1;32m      4\u001b[0m \u001b[0;34m\u001b[0m\u001b[0m\n\u001b[1;32m      5\u001b[0m \u001b[0mfig\u001b[0m \u001b[0;34m=\u001b[0m \u001b[0mplt\u001b[0m\u001b[0;34m.\u001b[0m\u001b[0mfigure\u001b[0m\u001b[0;34m(\u001b[0m\u001b[0;34m)\u001b[0m\u001b[0;34m\u001b[0m\u001b[0m\n",
      "\u001b[0;31mTypeError\u001b[0m: predict() got an unexpected keyword argument 'exog'"
     ]
    }
   ],
   "source": [
    "x_surf, y_surf = np.meshgrid(np.linspace(new_data.Light.min(), new_data.Light.max(), 100),np.linspace(new_data.Voltage.min(), new_data.Voltage.max(), 100))\n",
    "onlyX = pd.DataFrame({'Light': x_surf.ravel(), 'Voltage': y_surf.ravel()})\n",
    "fittedY=regrGeralF.predict(exog=onlyX)\n",
    "\n",
    "fig = plt.figure()\n",
    "ax = fig.add_subplot(111, projection='3d')\n",
    "ax.scatter(new_data['Light'],df2['Voltage'],df2['Humidity'],c='blue', marker='o', alpha=0.5)\n",
    "ax.plot_surface(x_surf,y_surf,fittedY.reshape(x_surf.shape), color='None', alpha=0.01)\n",
    "ax.set_xlabel('X')\n",
    "ax.set_ylabel('Y')\n",
    "ax.set_zlabel('Z')\n",
    "plt.show()"
   ]
  },
  {
   "cell_type": "code",
   "execution_count": 11,
   "metadata": {},
   "outputs": [
    {
     "data": {
      "text/plain": [
       "Index(['Moteid', 'Epoch', 'Humidity', 'Light', 'Voltage', 'Date', 'Time',\n",
       "       'Temperature'],\n",
       "      dtype='object')"
      ]
     },
     "execution_count": 11,
     "metadata": {},
     "output_type": "execute_result"
    }
   ],
   "source": [
    "new_data.columns"
   ]
  },
  {
   "cell_type": "markdown",
   "metadata": {},
   "source": [
    "Inicialmente faremos a regressão para a variavel algo sendo a Temperatura e a dependente sendo a Luz, Voltaem, Umidade respectivamente."
   ]
  },
  {
   "cell_type": "markdown",
   "metadata": {},
   "source": [
    "## Validação por Epoch. Exemplo: Predizendo uma época com base nas outras"
   ]
  },
  {
   "cell_type": "code",
   "execution_count": 14,
   "metadata": {},
   "outputs": [
    {
     "data": {
      "text/html": [
       "<div>\n",
       "<style scoped>\n",
       "    .dataframe tbody tr th:only-of-type {\n",
       "        vertical-align: middle;\n",
       "    }\n",
       "\n",
       "    .dataframe tbody tr th {\n",
       "        vertical-align: top;\n",
       "    }\n",
       "\n",
       "    .dataframe thead th {\n",
       "        text-align: right;\n",
       "    }\n",
       "</style>\n",
       "<table border=\"1\" class=\"dataframe\">\n",
       "  <thead>\n",
       "    <tr style=\"text-align: right;\">\n",
       "      <th></th>\n",
       "      <th>Epoch</th>\n",
       "      <th>Temp~Light</th>\n",
       "      <th>Temp~Voltage</th>\n",
       "      <th>Temp~Humidity</th>\n",
       "    </tr>\n",
       "  </thead>\n",
       "  <tbody>\n",
       "    <tr>\n",
       "      <th>0</th>\n",
       "      <td>2</td>\n",
       "      <td>3961.620902</td>\n",
       "      <td>2503.952731</td>\n",
       "      <td>810.362194</td>\n",
       "    </tr>\n",
       "    <tr>\n",
       "      <th>1</th>\n",
       "      <td>21</td>\n",
       "      <td>577.129061</td>\n",
       "      <td>404.406692</td>\n",
       "      <td>18.952505</td>\n",
       "    </tr>\n",
       "    <tr>\n",
       "      <th>2</th>\n",
       "      <td>25</td>\n",
       "      <td>563.288685</td>\n",
       "      <td>384.665321</td>\n",
       "      <td>17.007517</td>\n",
       "    </tr>\n",
       "    <tr>\n",
       "      <th>3</th>\n",
       "      <td>58</td>\n",
       "      <td>585.127220</td>\n",
       "      <td>294.619555</td>\n",
       "      <td>16.060900</td>\n",
       "    </tr>\n",
       "    <tr>\n",
       "      <th>4</th>\n",
       "      <td>61</td>\n",
       "      <td>2.964432</td>\n",
       "      <td>26.905376</td>\n",
       "      <td>8.729131</td>\n",
       "    </tr>\n",
       "    <tr>\n",
       "      <th>5</th>\n",
       "      <td>72</td>\n",
       "      <td>2.059346</td>\n",
       "      <td>35.836802</td>\n",
       "      <td>12.249856</td>\n",
       "    </tr>\n",
       "    <tr>\n",
       "      <th>6</th>\n",
       "      <td>74</td>\n",
       "      <td>3.292753</td>\n",
       "      <td>9.723325</td>\n",
       "      <td>8.498385</td>\n",
       "    </tr>\n",
       "    <tr>\n",
       "      <th>7</th>\n",
       "      <td>78</td>\n",
       "      <td>3.307362</td>\n",
       "      <td>10.978189</td>\n",
       "      <td>11.907452</td>\n",
       "    </tr>\n",
       "    <tr>\n",
       "      <th>8</th>\n",
       "      <td>79</td>\n",
       "      <td>2.948696</td>\n",
       "      <td>34.542386</td>\n",
       "      <td>8.574409</td>\n",
       "    </tr>\n",
       "    <tr>\n",
       "      <th>9</th>\n",
       "      <td>81</td>\n",
       "      <td>2.898952</td>\n",
       "      <td>9.810723</td>\n",
       "      <td>9.343079</td>\n",
       "    </tr>\n",
       "    <tr>\n",
       "      <th>10</th>\n",
       "      <td>83</td>\n",
       "      <td>4.123500</td>\n",
       "      <td>36.479480</td>\n",
       "      <td>11.423774</td>\n",
       "    </tr>\n",
       "    <tr>\n",
       "      <th>11</th>\n",
       "      <td>84</td>\n",
       "      <td>3.244170</td>\n",
       "      <td>34.510154</td>\n",
       "      <td>11.423683</td>\n",
       "    </tr>\n",
       "    <tr>\n",
       "      <th>12</th>\n",
       "      <td>86</td>\n",
       "      <td>303.019654</td>\n",
       "      <td>229.643816</td>\n",
       "      <td>13.260756</td>\n",
       "    </tr>\n",
       "    <tr>\n",
       "      <th>13</th>\n",
       "      <td>88</td>\n",
       "      <td>349.440817</td>\n",
       "      <td>201.114010</td>\n",
       "      <td>15.390682</td>\n",
       "    </tr>\n",
       "    <tr>\n",
       "      <th>14</th>\n",
       "      <td>89</td>\n",
       "      <td>304.087886</td>\n",
       "      <td>175.825190</td>\n",
       "      <td>14.013296</td>\n",
       "    </tr>\n",
       "    <tr>\n",
       "      <th>15</th>\n",
       "      <td>94</td>\n",
       "      <td>3.206890</td>\n",
       "      <td>36.729073</td>\n",
       "      <td>9.109975</td>\n",
       "    </tr>\n",
       "    <tr>\n",
       "      <th>16</th>\n",
       "      <td>95</td>\n",
       "      <td>3.506341</td>\n",
       "      <td>37.950955</td>\n",
       "      <td>10.441680</td>\n",
       "    </tr>\n",
       "    <tr>\n",
       "      <th>17</th>\n",
       "      <td>96</td>\n",
       "      <td>3.953812</td>\n",
       "      <td>11.633733</td>\n",
       "      <td>12.490034</td>\n",
       "    </tr>\n",
       "    <tr>\n",
       "      <th>18</th>\n",
       "      <td>97</td>\n",
       "      <td>7.364845</td>\n",
       "      <td>41.347618</td>\n",
       "      <td>10.179293</td>\n",
       "    </tr>\n",
       "    <tr>\n",
       "      <th>19</th>\n",
       "      <td>98</td>\n",
       "      <td>2.702366</td>\n",
       "      <td>7.566228</td>\n",
       "      <td>8.610258</td>\n",
       "    </tr>\n",
       "    <tr>\n",
       "      <th>20</th>\n",
       "      <td>104</td>\n",
       "      <td>328.183126</td>\n",
       "      <td>157.704730</td>\n",
       "      <td>13.280600</td>\n",
       "    </tr>\n",
       "    <tr>\n",
       "      <th>21</th>\n",
       "      <td>105</td>\n",
       "      <td>3.642628</td>\n",
       "      <td>9.828735</td>\n",
       "      <td>11.561523</td>\n",
       "    </tr>\n",
       "    <tr>\n",
       "      <th>22</th>\n",
       "      <td>108</td>\n",
       "      <td>3.353047</td>\n",
       "      <td>11.711663</td>\n",
       "      <td>9.294841</td>\n",
       "    </tr>\n",
       "    <tr>\n",
       "      <th>23</th>\n",
       "      <td>109</td>\n",
       "      <td>2.913200</td>\n",
       "      <td>7.984840</td>\n",
       "      <td>10.078237</td>\n",
       "    </tr>\n",
       "    <tr>\n",
       "      <th>24</th>\n",
       "      <td>112</td>\n",
       "      <td>3.356127</td>\n",
       "      <td>16.207873</td>\n",
       "      <td>10.078028</td>\n",
       "    </tr>\n",
       "    <tr>\n",
       "      <th>25</th>\n",
       "      <td>113</td>\n",
       "      <td>308.014415</td>\n",
       "      <td>150.001110</td>\n",
       "      <td>12.665833</td>\n",
       "    </tr>\n",
       "    <tr>\n",
       "      <th>26</th>\n",
       "      <td>117</td>\n",
       "      <td>342.775973</td>\n",
       "      <td>170.522066</td>\n",
       "      <td>16.141557</td>\n",
       "    </tr>\n",
       "    <tr>\n",
       "      <th>27</th>\n",
       "      <td>129</td>\n",
       "      <td>3.929202</td>\n",
       "      <td>34.846348</td>\n",
       "      <td>11.741230</td>\n",
       "    </tr>\n",
       "    <tr>\n",
       "      <th>28</th>\n",
       "      <td>130</td>\n",
       "      <td>5.596184</td>\n",
       "      <td>12.749977</td>\n",
       "      <td>10.004208</td>\n",
       "    </tr>\n",
       "    <tr>\n",
       "      <th>29</th>\n",
       "      <td>131</td>\n",
       "      <td>20.914165</td>\n",
       "      <td>15.498809</td>\n",
       "      <td>7.443489</td>\n",
       "    </tr>\n",
       "    <tr>\n",
       "      <th>...</th>\n",
       "      <td>...</td>\n",
       "      <td>...</td>\n",
       "      <td>...</td>\n",
       "      <td>...</td>\n",
       "    </tr>\n",
       "    <tr>\n",
       "      <th>70</th>\n",
       "      <td>242</td>\n",
       "      <td>3.115807</td>\n",
       "      <td>11.526547</td>\n",
       "      <td>5.621179</td>\n",
       "    </tr>\n",
       "    <tr>\n",
       "      <th>71</th>\n",
       "      <td>244</td>\n",
       "      <td>3.974226</td>\n",
       "      <td>13.463223</td>\n",
       "      <td>11.125787</td>\n",
       "    </tr>\n",
       "    <tr>\n",
       "      <th>72</th>\n",
       "      <td>245</td>\n",
       "      <td>1.764255</td>\n",
       "      <td>39.179164</td>\n",
       "      <td>14.994738</td>\n",
       "    </tr>\n",
       "    <tr>\n",
       "      <th>73</th>\n",
       "      <td>248</td>\n",
       "      <td>3.517480</td>\n",
       "      <td>16.201196</td>\n",
       "      <td>9.503702</td>\n",
       "    </tr>\n",
       "    <tr>\n",
       "      <th>74</th>\n",
       "      <td>250</td>\n",
       "      <td>4.621077</td>\n",
       "      <td>10.972362</td>\n",
       "      <td>10.435058</td>\n",
       "    </tr>\n",
       "    <tr>\n",
       "      <th>75</th>\n",
       "      <td>251</td>\n",
       "      <td>4.487168</td>\n",
       "      <td>28.495940</td>\n",
       "      <td>10.942341</td>\n",
       "    </tr>\n",
       "    <tr>\n",
       "      <th>76</th>\n",
       "      <td>260</td>\n",
       "      <td>1.269693</td>\n",
       "      <td>41.265830</td>\n",
       "      <td>11.196594</td>\n",
       "    </tr>\n",
       "    <tr>\n",
       "      <th>77</th>\n",
       "      <td>262</td>\n",
       "      <td>2.645769</td>\n",
       "      <td>18.670808</td>\n",
       "      <td>10.732659</td>\n",
       "    </tr>\n",
       "    <tr>\n",
       "      <th>78</th>\n",
       "      <td>263</td>\n",
       "      <td>3.375115</td>\n",
       "      <td>36.002560</td>\n",
       "      <td>5.118582</td>\n",
       "    </tr>\n",
       "    <tr>\n",
       "      <th>79</th>\n",
       "      <td>264</td>\n",
       "      <td>3.636380</td>\n",
       "      <td>39.771302</td>\n",
       "      <td>14.782382</td>\n",
       "    </tr>\n",
       "    <tr>\n",
       "      <th>80</th>\n",
       "      <td>267</td>\n",
       "      <td>2.807038</td>\n",
       "      <td>19.786355</td>\n",
       "      <td>16.085634</td>\n",
       "    </tr>\n",
       "    <tr>\n",
       "      <th>81</th>\n",
       "      <td>268</td>\n",
       "      <td>3.641688</td>\n",
       "      <td>37.761075</td>\n",
       "      <td>12.391871</td>\n",
       "    </tr>\n",
       "    <tr>\n",
       "      <th>82</th>\n",
       "      <td>272</td>\n",
       "      <td>4.118973</td>\n",
       "      <td>13.533365</td>\n",
       "      <td>16.396754</td>\n",
       "    </tr>\n",
       "    <tr>\n",
       "      <th>83</th>\n",
       "      <td>277</td>\n",
       "      <td>3.863287</td>\n",
       "      <td>9.471170</td>\n",
       "      <td>12.126493</td>\n",
       "    </tr>\n",
       "    <tr>\n",
       "      <th>84</th>\n",
       "      <td>279</td>\n",
       "      <td>4.227146</td>\n",
       "      <td>39.253510</td>\n",
       "      <td>13.129799</td>\n",
       "    </tr>\n",
       "    <tr>\n",
       "      <th>85</th>\n",
       "      <td>281</td>\n",
       "      <td>4.552616</td>\n",
       "      <td>18.031814</td>\n",
       "      <td>13.036124</td>\n",
       "    </tr>\n",
       "    <tr>\n",
       "      <th>86</th>\n",
       "      <td>282</td>\n",
       "      <td>4.469425</td>\n",
       "      <td>17.751642</td>\n",
       "      <td>11.646006</td>\n",
       "    </tr>\n",
       "    <tr>\n",
       "      <th>87</th>\n",
       "      <td>284</td>\n",
       "      <td>2.724492</td>\n",
       "      <td>34.541023</td>\n",
       "      <td>16.560850</td>\n",
       "    </tr>\n",
       "    <tr>\n",
       "      <th>88</th>\n",
       "      <td>291</td>\n",
       "      <td>17.682780</td>\n",
       "      <td>18.299148</td>\n",
       "      <td>14.219321</td>\n",
       "    </tr>\n",
       "    <tr>\n",
       "      <th>89</th>\n",
       "      <td>293</td>\n",
       "      <td>5.744601</td>\n",
       "      <td>16.718133</td>\n",
       "      <td>15.314734</td>\n",
       "    </tr>\n",
       "    <tr>\n",
       "      <th>90</th>\n",
       "      <td>294</td>\n",
       "      <td>2.117691</td>\n",
       "      <td>19.370313</td>\n",
       "      <td>16.213785</td>\n",
       "    </tr>\n",
       "    <tr>\n",
       "      <th>91</th>\n",
       "      <td>296</td>\n",
       "      <td>3.801864</td>\n",
       "      <td>13.184979</td>\n",
       "      <td>13.105092</td>\n",
       "    </tr>\n",
       "    <tr>\n",
       "      <th>92</th>\n",
       "      <td>299</td>\n",
       "      <td>5.258157</td>\n",
       "      <td>43.666238</td>\n",
       "      <td>13.587967</td>\n",
       "    </tr>\n",
       "    <tr>\n",
       "      <th>93</th>\n",
       "      <td>300</td>\n",
       "      <td>4.874176</td>\n",
       "      <td>19.454880</td>\n",
       "      <td>5.116257</td>\n",
       "    </tr>\n",
       "    <tr>\n",
       "      <th>94</th>\n",
       "      <td>302</td>\n",
       "      <td>4.490227</td>\n",
       "      <td>34.493545</td>\n",
       "      <td>7.678858</td>\n",
       "    </tr>\n",
       "    <tr>\n",
       "      <th>95</th>\n",
       "      <td>304</td>\n",
       "      <td>3.152925</td>\n",
       "      <td>8.092466</td>\n",
       "      <td>8.880651</td>\n",
       "    </tr>\n",
       "    <tr>\n",
       "      <th>96</th>\n",
       "      <td>306</td>\n",
       "      <td>4.178512</td>\n",
       "      <td>33.921539</td>\n",
       "      <td>8.843489</td>\n",
       "    </tr>\n",
       "    <tr>\n",
       "      <th>97</th>\n",
       "      <td>312</td>\n",
       "      <td>4.855478</td>\n",
       "      <td>34.175155</td>\n",
       "      <td>8.585851</td>\n",
       "    </tr>\n",
       "    <tr>\n",
       "      <th>98</th>\n",
       "      <td>314</td>\n",
       "      <td>1.759620</td>\n",
       "      <td>35.554252</td>\n",
       "      <td>6.633192</td>\n",
       "    </tr>\n",
       "    <tr>\n",
       "      <th>99</th>\n",
       "      <td>315</td>\n",
       "      <td>4.752536</td>\n",
       "      <td>11.900359</td>\n",
       "      <td>16.563833</td>\n",
       "    </tr>\n",
       "  </tbody>\n",
       "</table>\n",
       "<p>100 rows × 4 columns</p>\n",
       "</div>"
      ],
      "text/plain": [
       "    Epoch   Temp~Light  Temp~Voltage  Temp~Humidity\n",
       "0       2  3961.620902   2503.952731     810.362194\n",
       "1      21   577.129061    404.406692      18.952505\n",
       "2      25   563.288685    384.665321      17.007517\n",
       "3      58   585.127220    294.619555      16.060900\n",
       "4      61     2.964432     26.905376       8.729131\n",
       "5      72     2.059346     35.836802      12.249856\n",
       "6      74     3.292753      9.723325       8.498385\n",
       "7      78     3.307362     10.978189      11.907452\n",
       "8      79     2.948696     34.542386       8.574409\n",
       "9      81     2.898952      9.810723       9.343079\n",
       "10     83     4.123500     36.479480      11.423774\n",
       "11     84     3.244170     34.510154      11.423683\n",
       "12     86   303.019654    229.643816      13.260756\n",
       "13     88   349.440817    201.114010      15.390682\n",
       "14     89   304.087886    175.825190      14.013296\n",
       "15     94     3.206890     36.729073       9.109975\n",
       "16     95     3.506341     37.950955      10.441680\n",
       "17     96     3.953812     11.633733      12.490034\n",
       "18     97     7.364845     41.347618      10.179293\n",
       "19     98     2.702366      7.566228       8.610258\n",
       "20    104   328.183126    157.704730      13.280600\n",
       "21    105     3.642628      9.828735      11.561523\n",
       "22    108     3.353047     11.711663       9.294841\n",
       "23    109     2.913200      7.984840      10.078237\n",
       "24    112     3.356127     16.207873      10.078028\n",
       "25    113   308.014415    150.001110      12.665833\n",
       "26    117   342.775973    170.522066      16.141557\n",
       "27    129     3.929202     34.846348      11.741230\n",
       "28    130     5.596184     12.749977      10.004208\n",
       "29    131    20.914165     15.498809       7.443489\n",
       "..    ...          ...           ...            ...\n",
       "70    242     3.115807     11.526547       5.621179\n",
       "71    244     3.974226     13.463223      11.125787\n",
       "72    245     1.764255     39.179164      14.994738\n",
       "73    248     3.517480     16.201196       9.503702\n",
       "74    250     4.621077     10.972362      10.435058\n",
       "75    251     4.487168     28.495940      10.942341\n",
       "76    260     1.269693     41.265830      11.196594\n",
       "77    262     2.645769     18.670808      10.732659\n",
       "78    263     3.375115     36.002560       5.118582\n",
       "79    264     3.636380     39.771302      14.782382\n",
       "80    267     2.807038     19.786355      16.085634\n",
       "81    268     3.641688     37.761075      12.391871\n",
       "82    272     4.118973     13.533365      16.396754\n",
       "83    277     3.863287      9.471170      12.126493\n",
       "84    279     4.227146     39.253510      13.129799\n",
       "85    281     4.552616     18.031814      13.036124\n",
       "86    282     4.469425     17.751642      11.646006\n",
       "87    284     2.724492     34.541023      16.560850\n",
       "88    291    17.682780     18.299148      14.219321\n",
       "89    293     5.744601     16.718133      15.314734\n",
       "90    294     2.117691     19.370313      16.213785\n",
       "91    296     3.801864     13.184979      13.105092\n",
       "92    299     5.258157     43.666238      13.587967\n",
       "93    300     4.874176     19.454880       5.116257\n",
       "94    302     4.490227     34.493545       7.678858\n",
       "95    304     3.152925      8.092466       8.880651\n",
       "96    306     4.178512     33.921539       8.843489\n",
       "97    312     4.855478     34.175155       8.585851\n",
       "98    314     1.759620     35.554252       6.633192\n",
       "99    315     4.752536     11.900359      16.563833\n",
       "\n",
       "[100 rows x 4 columns]"
      ]
     },
     "execution_count": 14,
     "metadata": {},
     "output_type": "execute_result"
    }
   ],
   "source": [
    "regr = LinearRegression()\n",
    "\n",
    "features_ = []\n",
    "for feature in ['Light', 'Voltage', 'Humidity']:\n",
    "    epochs_error_mean = []\n",
    "    epochs_error_sqrt = []\n",
    "    for ep in epochs:\n",
    "        \n",
    "        X_train, y_train = new_data[new_data['Epoch'] != ep][[feature]], new_data[new_data['Epoch'] != ep]['Temperature']\n",
    "        X_test, y_test = new_data[new_data['Epoch'] == ep][[feature]], new_data[new_data['Epoch'] == ep]['Temperature']\n",
    "\n",
    "        regr.fit(X_train, y_train) # fitting model\n",
    "\n",
    "        y_pred = regr.predict(X_test)\n",
    "        error = mean_squared_error(y_test, y_pred)\n",
    "\n",
    "        epochs_error_mean.append(error) # array of mean squared errors\n",
    "        epochs_error_sqrt.append(np.sqrt(error)) # array of sqrt mean squared error\n",
    "    \n",
    "    features_.append(epochs_error_mean)\n",
    "#epochs_error_mean\n",
    "pd.DataFrame(np.array(features_).T, columns = ['Temp~Light', 'Temp~Voltage', 'Temp~Humidity']).set_index(epochs).reset_index().rename(columns = {'index': 'Epoch'})\n",
    "#np.array(features_).shape"
   ]
  },
  {
   "cell_type": "markdown",
   "metadata": {},
   "source": [
    "## Testando o modelo para cada medição da época"
   ]
  },
  {
   "cell_type": "code",
   "execution_count": 15,
   "metadata": {},
   "outputs": [
    {
     "data": {
      "text/plain": [
       "LinearRegression(copy_X=True, fit_intercept=True, n_jobs=1, normalize=False)"
      ]
     },
     "execution_count": 15,
     "metadata": {},
     "output_type": "execute_result"
    }
   ],
   "source": [
    " #Exemplo de um modelo para esimar a umidade com base na temperatura\n",
    "X2 = new_data[['Humidity']]\n",
    "y2 = new_data['Temperature']\n",
    "regr2 = LinearRegression()\n",
    "regr2.fit(X2, y2)"
   ]
  },
  {
   "cell_type": "markdown",
   "metadata": {},
   "source": [
    "# Iterando em cada época e pegando o erro quadrático da regressão.\n",
    "## Em seguida pegamos a médis dos erros em cada época."
   ]
  },
  {
   "cell_type": "code",
   "execution_count": 1,
   "metadata": {},
   "outputs": [],
   "source": [
    "\n",
    "mean_epoch=[]\n",
    "mean_epoch_mean=[]\n",
    "\n",
    "for i in new_data.Epoch.unique():\n",
    "    aux = new_data[new_data['Epoch'] == i]\n",
    "#     print(aux.shape)\n",
    "    scores = cross_val_score(regr2, X2, y2, cv=aux.shape[0], scoring='mean_squared_error')\n",
    "    mean_epoch_mean.append(abs(scores).mean())  \n",
    "#     mean_epoch.append(abs(scores)) \n",
    "#     if count==38:\n",
    "#         break"
   ]
  },
  {
   "cell_type": "markdown",
   "metadata": {},
   "source": [
    "# Erro quadrático médio para cada as 100 primeiras épocas "
   ]
  },
  {
   "cell_type": "code",
   "execution_count": 22,
   "metadata": {},
   "outputs": [
    {
     "name": "stdout",
     "output_type": "stream",
     "text": [
      "[21.365476419244047, 21.345127791318813, 21.41650913057723, 21.22361025860069, 21.22361025860069, 21.315466508895778, 21.41650913057723, 21.40101601614022, 21.345127791318813, 21.19542209264754, 21.40101601614022, 21.122002400196397, 21.41127763320491, 21.110040527485125, 21.41650913057723, 21.122002400196397, 21.504703651760057, 21.18825647176594, 21.315466508895778, 21.122002400196397, 21.345127791318813, 21.315466508895778, 21.315466508895778, 21.40101601614022, 21.19542209264754, 21.19542209264754, 21.315466508895778, 21.504703651760057, 21.40101601614022, 21.345127791318813, 21.504703651760057, 21.41650913057723, 21.110040527485125, 21.504703651760057, 21.110040527485125, 21.40101601614022, 21.110040527485125, 21.315466508895778, 21.110040527485125, 21.40101601614022, 21.19542209264754, 21.504703651760057, 21.315466508895778, 21.38466315358345, 21.41650913057723, 21.40101601614022, 21.40101601614022, 21.315466508895778, 21.122002400196397, 21.42764960649494, 21.110040527485125, 21.42764960649494, 21.40101601614022, 21.110040527485125, 21.42764960649494, 21.315466508895778, 21.41127763320491, 21.315466508895778, 21.38466315358345, 21.41650913057723, 21.41127763320491, 21.42764960649494, 21.41127763320491, 21.110040527485125, 21.41127763320491, 21.41127763320491, 21.110040527485125, 21.345127791318813, 21.122002400196397, 21.315466508895778, 21.110040527485125, 21.345127791318813, 21.504703651760057, 21.110040527485125, 21.40101601614022, 21.122002400196397, 21.42764960649494, 21.110040527485125, 21.122002400196397, 21.504703651760057, 21.40101601614022, 21.41127763320491, 21.122002400196397, 21.18825647176594, 21.315466508895778, 21.40101601614022, 21.40101601614022, 21.315466508895778, 21.504703651760057, 21.41127763320491, 21.40101601614022, 21.41127763320491, 21.110040527485125, 21.41127763320491, 21.110040527485125, 21.18825647176594, 21.41127763320491, 21.41127763320491, 21.41127763320491, 21.40101601614022]\n"
     ]
    }
   ],
   "source": [
    "print(mean_epoch_mean) ## Erro quadrático médio da temperatura em relação a umidade"
   ]
  },
  {
   "cell_type": "code",
   "execution_count": 23,
   "metadata": {},
   "outputs": [
    {
     "data": {
      "text/plain": [
       "LinearRegression(copy_X=True, fit_intercept=True, n_jobs=1, normalize=False)"
      ]
     },
     "execution_count": 23,
     "metadata": {},
     "output_type": "execute_result"
    }
   ],
   "source": [
    " #Exemplo de um modelo para esimar a Luz com base na temperatura\n",
    "X3 = new_data[['Light']]\n",
    "y3 = new_data['Temperature']\n",
    "regr3 = LinearRegression()\n",
    "regr3.fit(X3, y3)"
   ]
  },
  {
   "cell_type": "code",
   "execution_count": 2,
   "metadata": {},
   "outputs": [],
   "source": [
    "\n",
    "mean_epoch2=[]\n",
    "mean_epoch_mean2=[]\n",
    "\n",
    "for i in new_data.Epoch.unique():\n",
    "    aux = new_data[new_data['Epoch'] == i]\n",
    "#     print(aux.shape)\n",
    "    scores = cross_val_score(regr3, X3, y3, cv=aux.shape[0], scoring='mean_squared_error')\n",
    "    mean_epoch_mean2.append(abs(scores).mean())  \n",
    "#     mean_epoch2.append(abs(scores)) \n",
    "#     if count==38:\n",
    "#         break"
   ]
  },
  {
   "cell_type": "code",
   "execution_count": 36,
   "metadata": {},
   "outputs": [
    {
     "name": "stdout",
     "output_type": "stream",
     "text": [
      "[111.06417843452626, 112.21860772454622, 111.65595808343882, 112.68097615039133, 112.68097615039133, 112.20795083244057, 111.65595808343882, 110.84074151532364, 112.21860772454622, 110.38413465564919, 110.84074151532364, 110.58397788073498, 110.70501819776668, 112.78615138164102, 111.65595808343882, 110.58397788073498, 111.93317807096979, 111.93834730744598, 112.20795083244057, 110.58397788073498, 112.21860772454622, 112.20795083244057, 112.20795083244057, 110.84074151532364, 110.38413465564919, 110.38413465564919, 112.20795083244057, 111.93317807096979, 110.84074151532364, 112.21860772454622, 111.93317807096979, 111.65595808343882, 112.78615138164102, 111.93317807096979, 112.78615138164102, 110.84074151532364, 112.78615138164102, 112.20795083244057, 112.78615138164102, 110.84074151532364, 110.38413465564919, 111.93317807096979, 112.20795083244057, 110.4495243589996, 111.65595808343882, 110.84074151532364, 110.84074151532364, 112.20795083244057, 110.58397788073498, 112.236171625495, 112.78615138164102, 112.236171625495, 110.84074151532364, 112.78615138164102, 112.236171625495, 112.20795083244057, 110.70501819776668, 112.20795083244057, 110.4495243589996, 111.65595808343882, 110.70501819776668, 112.236171625495, 110.70501819776668, 112.78615138164102, 110.70501819776668, 110.70501819776668, 112.78615138164102, 112.21860772454622, 110.58397788073498, 112.20795083244057, 112.78615138164102, 112.21860772454622, 111.93317807096979, 112.78615138164102, 110.84074151532364, 110.58397788073498, 112.236171625495, 112.78615138164102, 110.58397788073498, 111.93317807096979, 110.84074151532364, 110.70501819776668, 110.58397788073498, 111.93834730744598, 112.20795083244057, 110.84074151532364, 110.84074151532364, 112.20795083244057, 111.93317807096979, 110.70501819776668, 110.84074151532364, 110.70501819776668, 112.78615138164102, 110.70501819776668, 112.78615138164102, 111.93834730744598, 110.70501819776668, 110.70501819776668, 110.70501819776668, 110.84074151532364]\n"
     ]
    }
   ],
   "source": [
    "print(mean_epoch_mean2)  # Erro quadrático médio da temperatura em relação a luz"
   ]
  },
  {
   "cell_type": "code",
   "execution_count": 26,
   "metadata": {},
   "outputs": [
    {
     "data": {
      "text/plain": [
       "LinearRegression(copy_X=True, fit_intercept=True, n_jobs=1, normalize=False)"
      ]
     },
     "execution_count": 26,
     "metadata": {},
     "output_type": "execute_result"
    }
   ],
   "source": [
    " #Exemplo de um modelo para esimar a Luz com base na voltagem\n",
    "X4 = new_data[['Voltage']]\n",
    "y4 = new_data['Temperature']\n",
    "regr4 = LinearRegression()\n",
    "regr4.fit(X4, y4)"
   ]
  },
  {
   "cell_type": "code",
   "execution_count": 3,
   "metadata": {},
   "outputs": [],
   "source": [
    "\n",
    "mean_epoch3=[]\n",
    "mean_epoch_mean3=[]\n",
    "\n",
    "for i in new_data.Epoch.unique():\n",
    "    aux = new_data[new_data['Epoch'] == i]\n",
    "#     print(aux.shape)\n",
    "    scores = cross_val_score(regr4, X4, y4, cv=aux.shape[0], scoring='mean_squared_error')\n",
    "    mean_epoch_mean3.append(abs(scores).mean())  \n",
    "#     mean_epoch3.append(abs(scores)) \n",
    "#     if count==38:\n",
    "#         break"
   ]
  },
  {
   "cell_type": "code",
   "execution_count": 38,
   "metadata": {},
   "outputs": [
    {
     "name": "stdout",
     "output_type": "stream",
     "text": [
      "[88.06393007061043, 84.54332945390902, 101.60108809751385, 94.34960608228698, 94.34960608228698, 101.69731184454491, 101.60108809751385, 84.25748650468441, 84.54332945390902, 93.31899896535019, 84.25748650468441, 95.84355193885841, 81.77428412648607, 91.80241372228788, 101.60108809751385, 95.84355193885841, 101.8567893631672, 87.35379940473494, 101.69731184454491, 95.84355193885841, 84.54332945390902, 101.69731184454491, 101.69731184454491, 84.25748650468441, 93.31899896535019, 93.31899896535019, 101.69731184454491, 101.8567893631672, 84.25748650468441, 84.54332945390902, 101.8567893631672, 101.60108809751385, 91.80241372228788, 101.8567893631672, 91.80241372228788, 84.25748650468441, 91.80241372228788, 101.69731184454491, 91.80241372228788, 84.25748650468441, 93.31899896535019, 101.8567893631672, 101.69731184454491, 101.12752739263861, 101.60108809751385, 84.25748650468441, 84.25748650468441, 101.69731184454491, 95.84355193885841, 82.27417720766199, 91.80241372228788, 82.27417720766199, 84.25748650468441, 91.80241372228788, 82.27417720766199, 101.69731184454491, 81.77428412648607, 101.69731184454491, 101.12752739263861, 101.60108809751385, 81.77428412648607, 82.27417720766199, 81.77428412648607, 91.80241372228788, 81.77428412648607, 81.77428412648607, 91.80241372228788, 84.54332945390902, 95.84355193885841, 101.69731184454491, 91.80241372228788, 84.54332945390902, 101.8567893631672, 91.80241372228788, 84.25748650468441, 95.84355193885841, 82.27417720766199, 91.80241372228788, 95.84355193885841, 101.8567893631672, 84.25748650468441, 81.77428412648607, 95.84355193885841, 87.35379940473494, 101.69731184454491, 84.25748650468441, 84.25748650468441, 101.69731184454491, 101.8567893631672, 81.77428412648607, 84.25748650468441, 81.77428412648607, 91.80241372228788, 81.77428412648607, 91.80241372228788, 87.35379940473494, 81.77428412648607, 81.77428412648607, 81.77428412648607, 84.25748650468441]\n"
     ]
    }
   ],
   "source": [
    "print(mean_epoch_mean3)  # Erro quadrático médio da temperatura em relação a Voltagem"
   ]
  },
  {
   "cell_type": "code",
   "execution_count": null,
   "metadata": {},
   "outputs": [],
   "source": []
  },
  {
   "cell_type": "code",
   "execution_count": null,
   "metadata": {},
   "outputs": [],
   "source": []
  },
  {
   "cell_type": "code",
   "execution_count": null,
   "metadata": {},
   "outputs": [],
   "source": []
  }
 ],
 "metadata": {
  "kernelspec": {
   "display_name": "Python 3",
   "language": "python",
   "name": "python3"
  },
  "language_info": {
   "codemirror_mode": {
    "name": "ipython",
    "version": 3
   },
   "file_extension": ".py",
   "mimetype": "text/x-python",
   "name": "python",
   "nbconvert_exporter": "python",
   "pygments_lexer": "ipython3",
   "version": "3.6.5"
  }
 },
 "nbformat": 4,
 "nbformat_minor": 2
}
