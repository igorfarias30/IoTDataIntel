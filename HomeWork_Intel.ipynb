{
 "cells": [
  {
   "cell_type": "code",
   "execution_count": 1,
   "metadata": {},
   "outputs": [],
   "source": [
    "%matplotlib inline\n",
    "\n",
    "from sklearn.model_selection import train_test_split, cross_val_score\n",
    "from sklearn.linear_model import LinearRegression # importa o modelo\n",
    "from sklearn.metrics import mean_squared_error\n",
    "import statsmodels.formula.api as sm\n",
    "import matplotlib.pyplot as plt\n",
    "import sklearn.manifold as skm\n",
    "from sklearn import metrics\n",
    "import scipy.stats as stats\n",
    "import seaborn as sns\n",
    "import random as rdn\n",
    "import pandas as pd\n",
    "import numpy as np\n",
    "import scipy as sp\n",
    "import datetime\n",
    "import time"
   ]
  },
  {
   "cell_type": "markdown",
   "metadata": {},
   "source": [
    "## Reading Dataset"
   ]
  },
  {
   "cell_type": "code",
   "execution_count": 2,
   "metadata": {},
   "outputs": [],
   "source": [
    "# setting names to columns after read csv file\n",
    "data_column_names = [\"Date\", \"Time\", \"Epoch\", \"Moteid\", \"Temperature\", \"Humidity\", \"Light\", \"Voltage\"]\n",
    "data = pd.read_csv(\"dataset/data.txt\", delimiter = \" \", names = data_column_names)"
   ]
  },
  {
   "cell_type": "code",
   "execution_count": 3,
   "metadata": {},
   "outputs": [
    {
     "name": "stdout",
     "output_type": "stream",
     "text": [
      "<class 'pandas.core.frame.DataFrame'>\n",
      "RangeIndex: 2313682 entries, 0 to 2313681\n",
      "Data columns (total 8 columns):\n",
      "Date           object\n",
      "Time           object\n",
      "Epoch          int64\n",
      "Moteid         float64\n",
      "Temperature    float64\n",
      "Humidity       float64\n",
      "Light          float64\n",
      "Voltage        float64\n",
      "dtypes: float64(5), int64(1), object(2)\n",
      "memory usage: 141.2+ MB\n"
     ]
    }
   ],
   "source": [
    "data.info()"
   ]
  },
  {
   "cell_type": "markdown",
   "metadata": {},
   "source": [
    "### Filter Dataset\n",
    "> Definning the dataset with only epochs in [2, 5576]"
   ]
  },
  {
   "cell_type": "code",
   "execution_count": 4,
   "metadata": {},
   "outputs": [],
   "source": [
    "data = data[(data[\"Epoch\"] <= 5576) & (data[\"Epoch\"] > 1)] "
   ]
  },
  {
   "cell_type": "markdown",
   "metadata": {},
   "source": [
    "### Missing Data"
   ]
  },
  {
   "cell_type": "markdown",
   "metadata": {},
   "source": [
    "> Plotting Missing Data"
   ]
  },
  {
   "cell_type": "code",
   "execution_count": 5,
   "metadata": {},
   "outputs": [
    {
     "data": {
      "text/plain": [
       "Text(0,0.5,'Percentage')"
      ]
     },
     "execution_count": 5,
     "metadata": {},
     "output_type": "execute_result"
    },
    {
     "data": {
      "image/png": "[encoded data removed]",
      "text/plain": [
       "<Figure size 1080x576 with 1 Axes>"
      ]
     },
     "metadata": {},
     "output_type": "display_data"
    }
   ],
   "source": [
    "missing = pd.DataFrame((data.isnull().sum() * 100 )/ data.shape[0]).reset_index().rename(columns = {'index': 'Feature', 0: 'Percent'})\n",
    "p = sns.barplot(x = 'Feature', y = 'Percent', data = missing, ax = plt.subplots(figsize = (15, 8))[1])\n",
    "p.set_title('Missing Data', fontsize = 18)\n",
    "p.set_xlabel('Feature', fontsize = 15)\n",
    "p.set_ylabel('Percentage', fontsize = 15)"
   ]
  },
  {
   "cell_type": "markdown",
   "metadata": {},
   "source": [
    "> Change features order"
   ]
  },
  {
   "cell_type": "code",
   "execution_count": 6,
   "metadata": {},
   "outputs": [],
   "source": [
    "data = data[[\"Moteid\", \"Epoch\", \"Humidity\", \"Light\", \"Voltage\", \"Date\", \"Time\", \"Temperature\"]]"
   ]
  },
  {
   "cell_type": "markdown",
   "metadata": {},
   "source": [
    "## Applying changes in dataset"
   ]
  },
  {
   "cell_type": "markdown",
   "metadata": {},
   "source": [
    "#### Creating a dataframe $means\\_epochs$, where epoch in [2, 5576] and feature in [\"Temperature\", \"Humidity\", \"Light\", \"Voltage\"]"
   ]
  },
  {
   "cell_type": "code",
   "execution_count": 7,
   "metadata": {},
   "outputs": [],
   "source": [
    "epocas = np.sort(data[\"Epoch\"].unique()) #sorting epochs list\n",
    "means = {\"Temperature\": [], \"Humidity\": [], \"Light\": [], \"Voltage\": []} # dict of means\n",
    "\n",
    "# percorrendo as features\n",
    "for feature in [\"Temperature\", \"Humidity\", \"Light\", \"Voltage\"]:\n",
    "    for epoch in epocas:\n",
    "        means[feature].append(data[data['Epoch'] == epoch][feature].mean())\n",
    "\n",
    "# creating dataframe with means\n",
    "means_epochs = pd.DataFrame(means).set_index(epocas).reset_index().rename(columns = {'index': 'Epoch'})"
   ]
  },
  {
   "cell_type": "markdown",
   "metadata": {},
   "source": [
    "### _Step 1 in Pre-processing_"
   ]
  },
  {
   "cell_type": "markdown",
   "metadata": {},
   "source": [
    "#### Replacing missing data by mean combining feature $f_i$ and epoch $epo_i$"
   ]
  },
  {
   "cell_type": "code",
   "execution_count": 8,
   "metadata": {},
   "outputs": [],
   "source": [
    "# parsing in the features\n",
    "for feature in [\"Temperature\", \"Humidity\", \"Light\", \"Voltage\"]:\n",
    "    # first epoch\n",
    "    aux = data[data['Epoch'] == 2].copy()\n",
    "    index_ = aux[aux[feature].isnull()].index\n",
    "    data.loc[index_, feature] = means_epochs[means_epochs['Epoch'] == 3][feature].values[0]\n",
    "    \n",
    "    # last epoch\n",
    "    aux = data[data['Epoch'] == 5576].copy()\n",
    "    index_ = aux[aux[feature].isnull()].index\n",
    "    data.loc[index_, feature] = means_epochs[means_epochs['Epoch'] == 5575][feature].values[0]\n",
    "    \n",
    "    for epoch in range(1, len(epocas) - 1):\n",
    "        aux = data[data['Epoch'] == epocas[epoch]].copy()\n",
    "        index_ = aux[aux[feature].isnull()].index\n",
    "        \n",
    "        data.loc[index_, feature] = (means_epochs[means_epochs['Epoch'] == epocas[epoch - 1]][feature].values[0] + \\\n",
    "                                    means_epochs[means_epochs['Epoch'] == epocas[epoch + 1]][feature].values[0]) / 2        "
   ]
  },
  {
   "cell_type": "code",
   "execution_count": 9,
   "metadata": {},
   "outputs": [],
   "source": [
    "outliers = data.copy() # copying the data to compare after"
   ]
  },
  {
   "cell_type": "code",
   "execution_count": 10,
   "metadata": {},
   "outputs": [
    {
     "data": {
      "image/png": "[encoded data removed]",
      "text/plain": [
       "<Figure size 1440x1008 with 4 Axes>"
      ]
     },
     "metadata": {},
     "output_type": "display_data"
    }
   ],
   "source": [
    "# plotting outliers\n",
    "fig, ax = plt.subplots(nrows = 2, ncols = 2, sharex = True, figsize = (20, 14))\n",
    "\n",
    "feature = [\"Temperature\", \"Humidity\", \"Light\", \"Voltage\"]; indx = 0\n",
    "for i in [0, 1]:\n",
    "    for j in [0, 1]:\n",
    "        ax[i, j].set_title(feature[indx], fontsize = 15)\n",
    "        p = sns.boxplot(y = feature[indx], data = outliers, ax = ax[i, j])\n",
    "        indx += 1"
   ]
  },
  {
   "cell_type": "markdown",
   "metadata": {},
   "source": [
    "#### Replacing outliers\n",
    "\n",
    "\n",
    "> Removing rows with values $\\notin$ $[-3\\sigma + \\mu , \\mu + 3\\sigma]$"
   ]
  },
  {
   "cell_type": "code",
   "execution_count": 11,
   "metadata": {},
   "outputs": [],
   "source": [
    "#https://pt.wikipedia.org/wiki/Amplitude_interquartil\n",
    "\n",
    "for feature in [\"Temperature\", \"Humidity\", \"Light\", \"Voltage\"]:\n",
    "    data = data[np.abs(data[feature] - data[feature].mean()) <= 3 * data[feature].std()].copy()"
   ]
  },
  {
   "cell_type": "code",
   "execution_count": 12,
   "metadata": {},
   "outputs": [
    {
     "data": {
      "image/png": "[encoded data removed]",
      "text/plain": [
       "<Figure size 1440x1008 with 4 Axes>"
      ]
     },
     "metadata": {},
     "output_type": "display_data"
    }
   ],
   "source": [
    "# plotting outliers\n",
    "fig, ax = plt.subplots(nrows = 2, ncols = 2, sharex = True, figsize = (20, 14))\n",
    "\n",
    "feature = [\"Temperature\", \"Humidity\", \"Light\", \"Voltage\"]; indx = 0\n",
    "for i in [0, 1]:\n",
    "    for j in [0, 1]:\n",
    "        ax[i, j].set_title(feature[indx], fontsize = 15)\n",
    "        p = sns.boxplot(y = feature[indx], data = data, ax = ax[i, j])\n",
    "        indx += 1"
   ]
  },
  {
   "cell_type": "code",
   "execution_count": 13,
   "metadata": {},
   "outputs": [
    {
     "name": "stdout",
     "output_type": "stream",
     "text": [
      "Amount of rows\n",
      "before removing outliers: 188392\n",
      "after removing outliers: 183865\n"
     ]
    }
   ],
   "source": [
    "print(\"Amount of rows\")\n",
    "print(\"before removing outliers: {}\".format(outliers.shape[0]))\n",
    "print(\"after removing outliers: {}\".format(data.shape[0]))"
   ]
  },
  {
   "cell_type": "markdown",
   "metadata": {},
   "source": [
    "> OBS.: `Light` didn't change"
   ]
  },
  {
   "cell_type": "markdown",
   "metadata": {},
   "source": [
    "### `Light` Distribution"
   ]
  },
  {
   "cell_type": "code",
   "execution_count": 14,
   "metadata": {},
   "outputs": [
    {
     "data": {
      "text/plain": [
       "<seaborn.axisgrid.FacetGrid at 0x1a0868ad5c0>"
      ]
     },
     "execution_count": 14,
     "metadata": {},
     "output_type": "execute_result"
    },
    {
     "data": {
      "image/png": "[encoded data removed]",
      "text/plain": [
       "<Figure size 1141x216 with 1 Axes>"
      ]
     },
     "metadata": {},
     "output_type": "display_data"
    },
    {
     "data": {
      "image/png": "[encoded data removed]",
      "text/plain": [
       "<Figure size 1141x216 with 1 Axes>"
      ]
     },
     "metadata": {},
     "output_type": "display_data"
    }
   ],
   "source": [
    "facet = sns.FacetGrid(data, palette = \"seismic\", aspect=5)\n",
    "facet.map(sns.kdeplot, 'Light', shade=True)\n",
    "facet.set(xlim=(data[\"Light\"].min(), data[\"Light\"].max()))\n",
    "facet.add_legend()\n",
    "\n",
    "facet = sns.FacetGrid(means_epochs, palette = \"seismic\", aspect=5)\n",
    "facet.map(sns.kdeplot, 'Light', shade=True)\n",
    "facet.set(xlim=(means_epochs[\"Light\"].min(), means_epochs[\"Light\"].max()))\n",
    "facet.add_legend()"
   ]
  },
  {
   "cell_type": "markdown",
   "metadata": {},
   "source": [
    "### _Step 2 in Pre-processing_"
   ]
  },
  {
   "cell_type": "code",
   "execution_count": 15,
   "metadata": {},
   "outputs": [
    {
     "name": "stdout",
     "output_type": "stream",
     "text": [
      "2 2 Epoch\n",
      "25.959806250000003 2 Humidity\n",
      "262.6708743565218 2 Light\n",
      "53.30115000000001 2 Temperature\n",
      "2.4692641666666666 2 Voltage\n"
     ]
    }
   ],
   "source": [
    "for epo in epocas:\n",
    "    for feature in data.columns.difference(['Moteid', 'Date', 'Time']).tolist():\n",
    "        print(means_epochs.query('Epoch == {}'.format(epo))[feature].values[0], epo, feature)\n",
    "    break"
   ]
  },
  {
   "cell_type": "markdown",
   "metadata": {},
   "source": [
    "## Creating a model"
   ]
  },
  {
   "cell_type": "code",
   "execution_count": 48,
   "metadata": {
    "collapsed": true
   },
   "outputs": [],
   "source": [
    "# array of epochs\n",
    "epochs = new_data['Epoch'].unique()[:5]"
   ]
  },
  {
   "cell_type": "code",
   "execution_count": 51,
   "metadata": {},
   "outputs": [
    {
     "data": {
      "text/plain": [
       "(177, 8)"
      ]
     },
     "execution_count": 51,
     "metadata": {},
     "output_type": "execute_result"
    }
   ],
   "source": [
    "new_data.shape"
   ]
  },
  {
   "cell_type": "code",
   "execution_count": 50,
   "metadata": {
    "collapsed": true
   },
   "outputs": [],
   "source": [
    "new_data = new_data[new_data['Epoch'].isin(epochs)]"
   ]
  },
  {
   "cell_type": "code",
   "execution_count": 133,
   "metadata": {},
   "outputs": [
    {
     "data": {
      "text/html": [
       "<div>\n",
       "<style scoped>\n",
       "    .dataframe tbody tr th:only-of-type {\n",
       "        vertical-align: middle;\n",
       "    }\n",
       "\n",
       "    .dataframe tbody tr th {\n",
       "        vertical-align: top;\n",
       "    }\n",
       "\n",
       "    .dataframe thead th {\n",
       "        text-align: right;\n",
       "    }\n",
       "</style>\n",
       "<table border=\"1\" class=\"dataframe\">\n",
       "  <thead>\n",
       "    <tr style=\"text-align: right;\">\n",
       "      <th></th>\n",
       "      <th>Epoch</th>\n",
       "      <th>Temp~Light</th>\n",
       "      <th>Temp~Voltage</th>\n",
       "      <th>Temp~Humidity</th>\n",
       "    </tr>\n",
       "  </thead>\n",
       "  <tbody>\n",
       "    <tr>\n",
       "      <th>0</th>\n",
       "      <td>2</td>\n",
       "      <td>3907.348593</td>\n",
       "      <td>1052.484763</td>\n",
       "      <td>665.123915</td>\n",
       "    </tr>\n",
       "    <tr>\n",
       "      <th>1</th>\n",
       "      <td>21</td>\n",
       "      <td>668.381371</td>\n",
       "      <td>223.623566</td>\n",
       "      <td>12.415613</td>\n",
       "    </tr>\n",
       "    <tr>\n",
       "      <th>2</th>\n",
       "      <td>25</td>\n",
       "      <td>666.834049</td>\n",
       "      <td>262.453161</td>\n",
       "      <td>10.083226</td>\n",
       "    </tr>\n",
       "    <tr>\n",
       "      <th>3</th>\n",
       "      <td>58</td>\n",
       "      <td>604.495781</td>\n",
       "      <td>150.576558</td>\n",
       "      <td>10.268495</td>\n",
       "    </tr>\n",
       "    <tr>\n",
       "      <th>4</th>\n",
       "      <td>61</td>\n",
       "      <td>203.860043</td>\n",
       "      <td>129.883504</td>\n",
       "      <td>11.594031</td>\n",
       "    </tr>\n",
       "  </tbody>\n",
       "</table>\n",
       "</div>"
      ],
      "text/plain": [
       "   Epoch   Temp~Light  Temp~Voltage  Temp~Humidity\n",
       "0      2  3907.348593   1052.484763     665.123915\n",
       "1     21   668.381371    223.623566      12.415613\n",
       "2     25   666.834049    262.453161      10.083226\n",
       "3     58   604.495781    150.576558      10.268495\n",
       "4     61   203.860043    129.883504      11.594031"
      ]
     },
     "execution_count": 133,
     "metadata": {},
     "output_type": "execute_result"
    }
   ],
   "source": [
    "regr = LinearRegression()\n",
    "\n",
    "features_ = []\n",
    "for feature in ['Light', 'Voltage', 'Humidity']:\n",
    "    epochs_error_mean = []\n",
    "    epochs_error_sqrt = []\n",
    "    for ep in epochs:\n",
    "        \n",
    "        X_train, y_train = new_data[new_data['Epoch'] != ep][[feature]], new_data[new_data['Epoch'] != ep]['Temperature']\n",
    "        X_test, y_test = new_data[new_data['Epoch'] == ep][[feature]], new_data[new_data['Epoch'] == ep]['Temperature']\n",
    "\n",
    "        regr.fit(X_train, y_train) # fitting model\n",
    "\n",
    "        y_pred = regr.predict(X_test)\n",
    "        error = mean_squared_error(y_test, y_pred)\n",
    "\n",
    "        epochs_error_mean.append(error) # array of mean squared errors\n",
    "        epochs_error_sqrt.append(np.sqrt(error)) # array of sqrt mean squared error\n",
    "    \n",
    "    features_.append(epochs_error_mean)\n",
    "#epochs_error_mean\n",
    "pd.DataFrame(np.array(features_).T, columns = ['Temp~Light', 'Temp~Voltage', 'Temp~Humidity']).set_index(epochs).reset_index().rename(columns = {'index': 'Epoch'})\n",
    "#np.array(features_).shape"
   ]
  },
  {
   "cell_type": "code",
   "execution_count": 112,
   "metadata": {},
   "outputs": [
    {
     "data": {
      "text/plain": [
       "LinearRegression(copy_X=True, fit_intercept=True, n_jobs=1, normalize=False)"
      ]
     },
     "execution_count": 112,
     "metadata": {},
     "output_type": "execute_result"
    }
   ],
   "source": [
    "X2 = new_data[['Humidity']]\n",
    "y2 = new_data['Temperature']\n",
    "regr2 = LinearRegression()\n",
    "regr2.fit(X2, y2)"
   ]
  },
  {
   "cell_type": "code",
   "execution_count": 119,
   "metadata": {},
   "outputs": [
    {
     "data": {
      "text/plain": [
       "(38, 8)"
      ]
     },
     "execution_count": 119,
     "metadata": {},
     "output_type": "execute_result"
    }
   ],
   "source": [
    "new_data[new_data['Epoch'] == 2].shape"
   ]
  },
  {
   "cell_type": "code",
   "execution_count": 128,
   "metadata": {},
   "outputs": [
    {
     "data": {
      "text/plain": [
       "array([ 2, 21, 25, 58, 61], dtype=int64)"
      ]
     },
     "execution_count": 128,
     "metadata": {},
     "output_type": "execute_result"
    }
   ],
   "source": [
    "new_data.Epoch.unique()\n",
    "[143.76260022250588, 143.76260022250588, 143.76260022250588, 143.76260022250588, 143.76260022250588]"
   ]
  },
  {
   "cell_type": "code",
   "execution_count": 91,
   "metadata": {},
   "outputs": [
    {
     "data": {
      "text/plain": [
       "[665.1239146876059,\n",
       " 12.415612680189163,\n",
       " 10.083225852101558,\n",
       " 10.268495176446756,\n",
       " 11.594031480074635]"
      ]
     },
     "execution_count": 91,
     "metadata": {},
     "output_type": "execute_result"
    }
   ],
   "source": [
    "epochs_error_mean"
   ]
  },
  {
   "cell_type": "code",
   "execution_count": 45,
   "metadata": {
    "collapsed": true
   },
   "outputs": [],
   "source": [
    "X = new_data[['Voltage']] #'Light', 'Voltage', Humidity]]\n",
    "y = new_data['Temperature']"
   ]
  },
  {
   "cell_type": "code",
   "execution_count": 46,
   "metadata": {},
   "outputs": [
    {
     "data": {
      "text/plain": [
       "LinearRegression(copy_X=True, fit_intercept=True, n_jobs=1, normalize=False)"
      ]
     },
     "execution_count": 46,
     "metadata": {},
     "output_type": "execute_result"
    }
   ],
   "source": [
    "# cria o modelo\n",
    "regr = LinearRegression()\n",
    "\n",
    "regr.fit(X, y) # treina o modelo"
   ]
  },
  {
   "cell_type": "code",
   "execution_count": 47,
   "metadata": {},
   "outputs": [
    {
     "data": {
      "text/plain": [
       "368.03406495362265"
      ]
     },
     "execution_count": 47,
     "metadata": {},
     "output_type": "execute_result"
    }
   ],
   "source": [
    "mean_squared_error(y, regr.predict(X))"
   ]
  },
  {
   "cell_type": "code",
   "execution_count": 8,
   "metadata": {
    "collapsed": true
   },
   "outputs": [],
   "source": [
    "X_train, X_test, y_train, y_test = train_test_split(X, y, test_size=0.33, random_state=42)"
   ]
  },
  {
   "cell_type": "code",
   "execution_count": 30,
   "metadata": {},
   "outputs": [
    {
     "name": "stdout",
     "output_type": "stream",
     "text": [
      "R2 no set de treino: 0.03\n",
      "R2 no set de teste: 0.01\n"
     ]
    }
   ],
   "source": [
    "r2_train = regr.score(X_train, y_train)\n",
    "r2_test = regr.score(X_test, y_test)\n",
    "print('R2 no set de treino: %.2f' % r2_train)\n",
    "print('R2 no set de teste: %.2f' % r2_test)"
   ]
  },
  {
   "cell_type": "code",
   "execution_count": 1,
   "metadata": {},
   "outputs": [
    {
     "name": "stdout",
     "output_type": "stream",
     "text": [
      "Utilizando biblioteca scikit-learn no python\n",
      "y = ax + b\n",
      "a = 1.92 = a inclinação da linha de tendência.\n",
      "b = -7.39 = o ponto onde a linha de tendência atinge o eixo y.\n"
     ]
    }
   ],
   "source": [
    "import pandas as pd\n",
    "from sklearn import linear_model\n",
    "\n",
    "#carregando dados hipotéticos, para fins didáticos apenas\n",
    "dataframe = pd.DataFrame()\n",
    "dataframe['x'] = [5.1, 5.5, 5.9, 6.5, 6.8, 7.6, 8.3, 8.5, 9.1, 9.5]  # horas de estudo\n",
    "dataframe['y'] = [2.0, 2.9, 4.0, 5.9, 6.0, 6.9, 8.0, 9.0, 9.9, 11.0] # pontuaçao alcançada\n",
    "x_values = dataframe[['x']]\n",
    "y_values = dataframe[['y']]\n",
    "\n",
    "#treinando o modelo\n",
    "model = linear_model.LinearRegression()\n",
    "model.fit(x_values, y_values)\n",
    "\n",
    "#imprimindo os valores\n",
    "print('Utilizando biblioteca scikit-learn no python')\n",
    "print('y = ax + b')\n",
    "print('a = %.2f = a inclinação da linha de tendência.' % model.coef_[0][0])\n",
    "print('b = %.2f = o ponto onde a linha de tendência atinge o eixo y.' % model.intercept_[0])"
   ]
  }
 ],
 "metadata": {
  "kernelspec": {
   "display_name": "Python 3",
   "language": "python",
   "name": "python3"
  },
  "language_info": {
   "codemirror_mode": {
    "name": "ipython",
    "version": 3
   },
   "file_extension": ".py",
   "mimetype": "text/x-python",
   "name": "python",
   "nbconvert_exporter": "python",
   "pygments_lexer": "ipython3",
   "version": "3.6.5"
  }
 },
 "nbformat": 4,
 "nbformat_minor": 2
}
